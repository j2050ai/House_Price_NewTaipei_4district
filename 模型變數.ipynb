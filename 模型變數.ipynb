{
 "cells": [
  {
   "cell_type": "code",
   "execution_count": null,
   "metadata": {},
   "outputs": [],
   "source": [
    "import numpy as np\n",
    "import pandas as pd"
   ]
  },
  {
   "cell_type": "code",
   "execution_count": null,
   "metadata": {},
   "outputs": [],
   "source": [
    "# import data\n",
    "\n",
    "# 大表( 實價登錄 + 周邊設施 + 交通 )\n",
    "preDF = pd.read_csv(\"./combine/presale_location_spot_MRT_bus.csv\")\n",
    "# 經濟因素資料\n",
    "intDF = pd.read_csv(\"./data/eco_int.csv\")"
   ]
  },
  {
   "cell_type": "code",
   "execution_count": null,
   "metadata": {},
   "outputs": [],
   "source": [
    "# Select columns for variables\n",
    "selectCol = [\"鄉鎮市區\", \"土地區段位置建物區段門牌\", \"交易標的\", \"都市土地使用分區\", \"主要用途\", \"交易年月日\", \"總坪數\", \"每坪單價\", \"移轉層次\", \"建物現況格局-房\", \"建物現況格局-廳\", \"建物現況格局-衛\", \"bad100m\", \"edu500m\", \"med1000m\", \"class_MRT\", \"class_bus\", \"building_station_distance\", \"building_busstop_distance\"]\n",
    "preDF1 = preDF[selectCol]\n",
    "\n",
    "# 要分析自住房屋，篩選出\"住家\"或\"住商\"\n",
    "preDF2 = preDF1[(preDF1[\"主要用途\"] == \"住家用\") | (preDF1[\"主要用途\"] == \"住商用\")]\n",
    "\n",
    "\n",
    "# 交易標的 => 房地(土地+建物) = 1、房地(土地+建物)+車位 = 2\n",
    "def b_classify(row):\n",
    "    if row[\"交易標的\"] == \"房地(土地+建物)\":\n",
    "        return 1\n",
    "    elif row[\"交易標的\"] == \"房地(土地+建物)+車位\":\n",
    "        return 2\n",
    "    else:\n",
    "        return 3\n",
    "    \n",
    "# 都市土地使用分區 => 住 = 1、商 = 2、其他 = 3\n",
    "def l_classify(row):\n",
    "    if row[\"都市土地使用分區\"] == \"住\":\n",
    "        return 1\n",
    "    elif row[\"都市土地使用分區\"] == \"商\":\n",
    "        return 2\n",
    "    else:\n",
    "        return 3\n",
    "\n",
    "# 新增分類好的 \"交易標的\"、\"土地使用\" 欄位\n",
    "preDF2[\"交易標的new\"] = preDF2.apply(lambda x: b_classify(x), axis=1)\n",
    "preDF2[\"土地使用\"] = preDF2.apply(lambda x: l_classify(x), axis=1)\n",
    "\n",
    "# 刪除不需要的欄位\n",
    "preDF3 = preDF2.drop([\"交易標的\", \"都市土地使用分區\", \"主要用途\"], axis=1)\n",
    "\n",
    "# \"交易年月日\" 整理為 \"交易年月\"\n",
    "preDF3[\"交易年月日\"] = preDF3[\"交易年月日\"].astype(str)\n",
    "preDF3[\"交易年月\"] = preDF3[\"交易年月日\"].str[0:5].astype(int)\n",
    "\n",
    "# km 換成 m\n",
    "preDF3[\"building_station_distance\"] = preDF3[\"building_station_distance\"]*1000\n",
    "preDF3[\"building_busstop_distance\"] = preDF3[\"building_busstop_distance\"]*1000\n",
    "\n",
    "# Rename columns\n",
    "preDF4 = preDF3.rename(columns={\"總坪數\": \"Area\", \"每坪單價\": \"Price\", \"移轉層次\": \"Floor\", \"建物現況格局-房\": \"Rooms\", \"建物現況格局-廳\": \"Liv_Din\", \"建物現況格局-衛\": \"Bath\", \"交易標的new\": \"Parking\", \"土地使用\": \"Landusage\"})\n",
    "\n",
    "# delete temporary objects\n",
    "del preDF1, preDF2, preDF3"
   ]
  },
  {
   "cell_type": "code",
   "execution_count": null,
   "metadata": {},
   "outputs": [],
   "source": [
    "# 合併兩張表\n",
    "df2 = pd.merge(preDF4, intDF, left_on = \"交易年月\", right_on = \"年月\", how = \"left\").drop(\"年月\", axis=1)"
   ]
  },
  {
   "cell_type": "code",
   "execution_count": null,
   "metadata": {},
   "outputs": [],
   "source": [
    "df2.to_csv(\"./combine/模型用/combine.csv\", index = False)"
   ]
  }
 ],
 "metadata": {
  "kernelspec": {
   "display_name": "Python 3",
   "language": "python",
   "name": "python3"
  },
  "language_info": {
   "codemirror_mode": {
    "name": "ipython",
    "version": 3
   },
   "file_extension": ".py",
   "mimetype": "text/x-python",
   "name": "python",
   "nbconvert_exporter": "python",
   "pygments_lexer": "ipython3",
   "version": "3.8.3"
  }
 },
 "nbformat": 4,
 "nbformat_minor": 4
}

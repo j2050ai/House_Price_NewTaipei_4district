{
 "cells": [
  {
   "cell_type": "code",
   "execution_count": null,
   "metadata": {},
   "outputs": [],
   "source": [
    "import os\n",
    "import pandas as pd\n",
    "import numpy as np"
   ]
  },
  {
   "cell_type": "markdown",
   "metadata": {},
   "source": [
    "# Import data"
   ]
  },
  {
   "cell_type": "code",
   "execution_count": null,
   "metadata": {},
   "outputs": [],
   "source": [
    "myPath = \"./presale/\"\n",
    "\n",
    "fileList = os.listdir(myPath)\n",
    "\n",
    "# 合併所有預售屋檔案\n",
    "dList = [pd.read_csv(myPath + f, skiprows=[1,2], error_bad_lines=False) for f in fileList]\n",
    "preDF = pd.concat(dList)"
   ]
  },
  {
   "cell_type": "code",
   "execution_count": null,
   "metadata": {},
   "outputs": [],
   "source": [
    "preDF.to_csv(\"./combine/presale.csv\", index = False)"
   ]
  },
  {
   "cell_type": "markdown",
   "metadata": {},
   "source": [
    "# Drop or Fill NA"
   ]
  },
  {
   "cell_type": "code",
   "execution_count": null,
   "metadata": {},
   "outputs": [],
   "source": [
    "# 去除不用的欄位\n",
    "noCol = [\"土地移轉總面積平方公尺\", \"非都市土地使用分區\", \"非都市土地使用編定\", \"建築完成年月\", \"編號\"]\n",
    "newDF = preDF.drop(columns = noCol)\n",
    "\n",
    "# \"車位類別\", \"備註\" => Fill NA\n",
    "fillNA = {\"車位類別\": 0, \"備註\": 0}\n",
    "df1 = newDF.fillna(value = fillNA)"
   ]
  },
  {
   "cell_type": "code",
   "execution_count": null,
   "metadata": {},
   "outputs": [],
   "source": [
    "# 取得columns name\n",
    "colList = list(df1.columns)\n",
    "\n",
    "# 確認哪些欄位有空值\n",
    "colnaList = []\n",
    "\n",
    "for c in colList:\n",
    "    if df1[c].isna().any():\n",
    "        colnaList.append(c) \n",
    "        print(c)\n",
    "        \n",
    "for col in colnaList:\n",
    "    print(df1[df1[col].isna()])"
   ]
  },
  {
   "cell_type": "code",
   "execution_count": null,
   "metadata": {},
   "outputs": [],
   "source": [
    "# 若\"鄉鎮市區\", \"土地區段位置建物區段門牌\"兩欄位皆無資料，直接刪除  => Drop\n",
    "df1_1 = df1.dropna(subset = [\"鄉鎮市區\", \"土地區段位置建物區段門牌\"], how = \"all\")\n",
    "\n",
    "# 若\"都市土地使用分區\", \"主要用途\"兩欄位皆無資料，直接刪除  => Drop\n",
    "df1_2 = df1_1.dropna(subset = [\"都市土地使用分區\", \"主要用途\"], how = \"all\")\n",
    "\n",
    "# \"移轉層次\"空值，若遇\"交易標的\"是車位，補地下一層  => Fillna\n",
    "df1_2.loc[df1_2.交易標的 == \"車位\", [\"交易標的\",\"移轉層次\"]] = df1_2.loc[df1_2.交易標的 == \"車位\", [\"交易標的\", \"移轉層次\"]].fillna(value = {\"移轉層次\": \"地下一層\"})\n",
    "\n",
    "# \"移轉層次\"空值，若遇\"交易標的\"為其他，則刪除  => Drop\n",
    "df1_3 = df1_2.dropna(subset = [\"移轉層次\"], how = \"any\")\n",
    "\n",
    "# 主要建材空值，取同\"土地區段位置建物區段門牌\" => Fillna\n",
    "df1_3.loc[df1_3[\"主要建材\"].isna(), [\"土地區段位置建物區段門牌\", \"主要建材\"]] = df1_3.loc[df1_3[\"主要建材\"].isna(), [\"土地區段位置建物區段門牌\", \"主要建材\"]].fillna(\"鋼筋混凝土造\")\n",
    "\n",
    "# Fill\"住\" if \"主要用途\"=\"住家用\"\n",
    "df1_3.loc[((df1_3[\"都市土地使用分區\"].isna()) & (df1_3[\"主要用途\"] == \"住家用\")), [\"都市土地使用分區\", \"土地區段位置建物區段門牌\", \"主要用途\"]] = df1_3.loc[((df1_3[\"都市土地使用分區\"].isna()) & (df1_3[\"主要用途\"] == \"住家用\")), [\"都市土地使用分區\", \"土地區段位置建物區段門牌\", \"主要用途\"]].fillna(value = {\"都市土地使用分區\": \"住\"})\n",
    "\n",
    "# Fill\"其他\" if \"主要用途\"=\"見其他登記事項\"\n",
    "df1_3.loc[((df1_3[\"都市土地使用分區\"].isna()) & (df1_3[\"主要用途\"] == \"見其他登記事項\")), [\"都市土地使用分區\", \"土地區段位置建物區段門牌\", \"主要用途\"]] = df1_3.loc[((df1_3[\"都市土地使用分區\"].isna()) & (df1_3[\"主要用途\"] == \"見其他登記事項\")), [\"都市土地使用分區\", \"土地區段位置建物區段門牌\", \"主要用途\"]].fillna(value = {\"都市土地使用分區\": \"其他\"})\n",
    "\n",
    "# Fill \"主要用途\"=\"住家用\"\n",
    "df1_3.loc[df1_3[\"主要用途\"].isna(), [\"都市土地使用分區\", \"土地區段位置建物區段門牌\", \"主要用途\"]] = df1_3.loc[df1_3[\"主要用途\"].isna(), [\"都市土地使用分區\", \"土地區段位置建物區段門牌\", \"主要用途\"]].fillna(value = {\"主要用途\": \"住家用\"})\n",
    "df1_3"
   ]
  },
  {
   "cell_type": "markdown",
   "metadata": {},
   "source": [
    "# 欄位整理"
   ]
  },
  {
   "cell_type": "code",
   "execution_count": null,
   "metadata": {},
   "outputs": [],
   "source": [
    "# check 欄位內容\n",
    "def check_type(col):\n",
    "    return list(df2[col].unique())\n",
    "\n",
    "\n",
    "# 確認 \"移轉層次\"，要換成數字\n",
    "fType = check_type(\"移轉層次\")\n",
    "\n",
    "# \"移轉層次\"換成數字表達\n",
    "fList = [3,4,2,9,11,6,5,7,12,13,10,8,14,17,15,16,18,1,19,20,22,23,21,24,26,25,\"見其他登記事項\",27,28,29,-1,\"all\",36,34,30,31,32,\"見使用執照\",33,35]\n",
    "\n",
    "df2 = df1_3.replace(fType,fList)\n",
    "\n",
    "\n",
    "# 只需實際可用面積，所以要扣掉車位面積\n",
    "df2[\"總坪數\"] = (df2[\"建物移轉總面積平方公尺\"] - df2[\"車位移轉總面積平方公尺\"] ) * 0.3025\n",
    "\n",
    "# 換算不含車位的每坪價格\n",
    "df2[\"每坪單價\"] = (df2[\"總價元\"] - df2[\"車位總價元\"]) / df2[\"總坪數\"]"
   ]
  },
  {
   "cell_type": "code",
   "execution_count": null,
   "metadata": {},
   "outputs": [],
   "source": [
    "# 篩選要使用的欄位\n",
    "\n",
    "# 主要用途=住家用、住商用\n",
    "# 建物型態=住宅大樓、華廈、套房\n",
    "mainuse = [\"住家用\", \"住商用\"]\n",
    "buildtype = [\"住宅大樓(11層含以上有電梯)\", \"華廈(10層含以下有電梯)\", \"套房(1房1廳1衛)\"]\n",
    "\n",
    "df3_1 = df2[df2[\"主要用途\"].isin(mainuse)]\n",
    "df3_2 = df3_1[df3_1[\"建物型態\"].isin(buildtype)]"
   ]
  },
  {
   "cell_type": "code",
   "execution_count": null,
   "metadata": {},
   "outputs": [],
   "source": [
    "# 存出一版整理好 -- 所有新北市\n",
    "df3_2.to_csv(\"./combine/presale.csv\", index = False)"
   ]
  },
  {
   "cell_type": "code",
   "execution_count": null,
   "metadata": {},
   "outputs": [],
   "source": [
    "# 選出要分析的四區 -- \"新莊區\", \"新店區\", \"中和區\", \"板橋區\"\n",
    "\n",
    "district = [\"新莊區\", \"新店區\", \"中和區\", \"板橋區\"]\n",
    "\n",
    "for i,d in enumerate(district):\n",
    "     globals()[\"df4_\" + str(i)] =  df3_2[df3_2[\"鄉鎮市區\"] == d]\n",
    "        \n",
    "comDF = pd.concat([df4_0, df4_1, df4_2, df4_3], ignore_index = True)\n",
    "comDF"
   ]
  },
  {
   "cell_type": "code",
   "execution_count": null,
   "metadata": {},
   "outputs": [],
   "source": [
    "# 存出一版整理好--四區\n",
    "comDF.to_csv(\"./combine/presale_4district.csv\", index = False)"
   ]
  }
 ],
 "metadata": {
  "kernelspec": {
   "display_name": "Python 3",
   "language": "python",
   "name": "python3"
  },
  "language_info": {
   "codemirror_mode": {
    "name": "ipython",
    "version": 3
   },
   "file_extension": ".py",
   "mimetype": "text/x-python",
   "name": "python",
   "nbconvert_exporter": "python",
   "pygments_lexer": "ipython3",
   "version": "3.8.3"
  }
 },
 "nbformat": 4,
 "nbformat_minor": 4
}

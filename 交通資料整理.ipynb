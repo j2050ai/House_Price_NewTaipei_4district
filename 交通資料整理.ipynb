{
 "cells": [
  {
   "cell_type": "code",
   "execution_count": null,
   "metadata": {},
   "outputs": [],
   "source": [
    "import numpy as np\n",
    "import pandas as pd\n",
    "import json\n",
    "import csv\n",
    "import os\n",
    "from haversine import haversine"
   ]
  },
  {
   "cell_type": "code",
   "execution_count": null,
   "metadata": {},
   "outputs": [],
   "source": [
    "# 讀取包含周邊設施的大表\n",
    "addrDF = pd.read_csv(\"./combine/presale_location_spot.csv\")"
   ]
  },
  {
   "cell_type": "code",
   "execution_count": null,
   "metadata": {},
   "outputs": [],
   "source": [
    "# 整理報表所需欄位\n",
    "tempDF = addrDF.drop_duplicates(subset = [\"土地區段位置建物區段門牌\"])\n",
    "tempDF = tempDF[[\"土地區段位置建物區段門牌\"]]"
   ]
  },
  {
   "cell_type": "markdown",
   "metadata": {},
   "source": [
    "# MRT"
   ]
  },
  {
   "cell_type": "code",
   "execution_count": null,
   "metadata": {},
   "outputs": [],
   "source": [
    "# 讀取 MRT data\n",
    "dfMRT = pd.read_csv(\"./data/northern-taiwan_新北.csv\")"
   ]
  },
  {
   "cell_type": "code",
   "execution_count": null,
   "metadata": {},
   "outputs": [],
   "source": [
    "# 找出房屋物件與捷運站的最短距離\n",
    "# presale_location_spot data\n",
    "df1 = addrDF.loc[:, [\"土地區段位置建物區段門牌\", \"鄉鎮市區\", \"y_h\", \"x_h\"]].drop_duplicates()\n",
    "\n",
    "# MRT data\n",
    "# dropna\n",
    "df2 = dfMRT.loc[:, [\"station_name_tw\", \"line_name\", \"address\", \"lat\", \"lon\"]]\n",
    "\n",
    "# cartesian combine\n",
    "df3 = df1.assign(key = 1).merge(df2.assign(key = 1), on = \"key\").drop(\"key\", axis = 1)\n",
    "\n",
    "# 計算兩個座標的距離\n",
    "def distance(row):\n",
    "    lat1 = row[\"y_h\"]\n",
    "    long1 = row[\"x_h\"]\n",
    "    building = (lat1, long1)\n",
    "    \n",
    "    lat2 = row[\"lat\"]\n",
    "    long2 = row[\"lon\"]\n",
    "    station = (lat2, long2)\n",
    "    \n",
    "    result = haversine(building, station)\n",
    "    return result\n",
    "\n",
    "# haversine計算距離\n",
    "df3[\"building_station_distance\"] = df3.apply(lambda x: distance(x), axis = 1)\n",
    "\n",
    "# 抓出最小的距離\n",
    "df4 = df3.iloc[df3.groupby(\"土地區段位置建物區段門牌\")[\"building_station_distance\"].idxmin().tolist(), :]\n",
    "\n",
    "# 合併兩張表\n",
    "outputDf = pd.merge(tempDF, df4, left_on = \"土地區段位置建物區段門牌\", right_on = \"土地區段位置建物區段門牌\", how = \"left\")\n",
    "\n",
    "# delete temporary objects\n",
    "del df1, df2, df3, df4"
   ]
  },
  {
   "cell_type": "code",
   "execution_count": null,
   "metadata": {},
   "outputs": [],
   "source": [
    "# 以下三條捷運線是有高架段\n",
    "a1 = outputDf[\"line_name\"] == \"環狀線\"\n",
    "a2 = outputDf[\"line_name\"] == \"機場線\"\n",
    "a3 = outputDf[\"station_name_tw\"] == \"小碧潭\"\n",
    "\n",
    "# 若為高架 = 1\n",
    "outputDf.loc[(a1 | a2 | a3), \"高架\"] = 1\n",
    "\n",
    "# 非高架 = 0\n",
    "tmpDF01 = outputDf.fillna(value = 0)"
   ]
  },
  {
   "cell_type": "code",
   "execution_count": null,
   "metadata": {},
   "outputs": [],
   "source": [
    "# 0.1 = 100m，check有無距離高價很近的房子( < 100m & \"高架\" = 1 )\n",
    "tmpDF01[(tmpDF01[\"building_station_distance\"] < 0.1) & (tmpDF01[\"高架\"] == 1)]"
   ]
  },
  {
   "cell_type": "markdown",
   "metadata": {},
   "source": [
    "## 分類: 與捷運站的距離\n",
    "<p> 5分鐘內: x < 375m => 1 <p>\n",
    "<p> 5-10分鐘內: 375m < x < 750m => 2 <p>\n",
    "<p> 超過10分鐘: x > 750m => 3 <p>\n",
    "<p> 隔壁就高架: < 100m & \"高架\" = 1(為高架) => 4 <p>"
   ]
  },
  {
   "cell_type": "code",
   "execution_count": null,
   "metadata": {},
   "outputs": [],
   "source": [
    "def MRT_distance_classify(row):\n",
    "    if row[\"building_station_distance\"] < 0.375:\n",
    "        return 1\n",
    "    elif (row[\"building_station_distance\"] > 0.375) and (row[\"building_station_distance\"] < 0.75):\n",
    "        return 2\n",
    "    elif (row[\"building_station_distance\"] > 0.75):\n",
    "        return 3\n",
    "    else:\n",
    "        return 4\n",
    "    \n",
    "tmpDF01[\"class_MRT\"] = tmpDF01.apply(lambda x: MRT_distance_classify(x), axis=1)\n",
    "\n",
    "# MRT_addr表刪除不要的欄位\n",
    "tmpDF01_1 = tmpDF01.drop([\"鄉鎮市區\", \"y_h\", \"x_h\"], axis = 1)\n",
    "\n",
    "# 併回大表\n",
    "comDF_MRT = pd.merge(addrDF, tmpDF01_1, left_on = \"土地區段位置建物區段門牌\", right_on = \"土地區段位置建物區段門牌\", how = \"left\")"
   ]
  },
  {
   "cell_type": "markdown",
   "metadata": {},
   "source": [
    "# Bus"
   ]
  },
  {
   "cell_type": "code",
   "execution_count": null,
   "metadata": {},
   "outputs": [],
   "source": [
    "# 讀取 BUS data\n",
    "busPath = \"./data/bus/\"\n",
    "fileList = os.listdir(busPath)\n",
    "\n",
    "# 合併所有BUS檔案\n",
    "busList = [pd.read_csv(busPath + f) for f in fileList]\n",
    "busDF = pd.concat(busList)"
   ]
  },
  {
   "cell_type": "code",
   "execution_count": null,
   "metadata": {},
   "outputs": [],
   "source": [
    "# 找出房屋物件與公車站的最短距離\n",
    "# presale_location_spot data\n",
    "df1 = addrDF.loc[:, [\"土地區段位置建物區段門牌\", \"鄉鎮市區\", \"y_h\", \"x_h\"]].drop_duplicates()\n",
    "\n",
    "# bus stop data\n",
    "# dropna\n",
    "df2 = busDF.loc[:, [\"nameZh\", \"address\", \"latitude\", \"longitude\"]]\n",
    "\n",
    "# cartesian combine\n",
    "df3 = df1.assign(key = 1).merge(df2.assign(key = 1), on = \"key\").drop(\"key\", axis = 1)\n",
    "\n",
    "# 計算兩個座標的距離\n",
    "def distance(row):\n",
    "    lat1 = row[\"y_h\"]\n",
    "    long1 = row[\"x_h\"]\n",
    "    building = (lat1, long1)\n",
    "    \n",
    "    lat2 = row[\"latitude\"]\n",
    "    long2 = row[\"longitude\"]\n",
    "    busstop = (lat2, long2)\n",
    "    \n",
    "    result = haversine(building, busstop)\n",
    "    return result\n",
    "\n",
    "# haversine計算距離\n",
    "df3[\"building_busstop_distance\"] = df3.apply(lambda x: distance(x), axis = 1)\n",
    "\n",
    "# 抓出最小的距離\n",
    "df4 = df3.iloc[df3.groupby(\"土地區段位置建物區段門牌\")[\"building_busstop_distance\"].idxmin().tolist(), :]\n",
    "\n",
    "# 合併兩張表\n",
    "outputDf1 = pd.merge(tempDF, df4, left_on = \"土地區段位置建物區段門牌\", right_on = \"土地區段位置建物區段門牌\", how = \"left\")\n",
    "\n",
    "# delete temporary objects\n",
    "del df1, df2, df3, df4"
   ]
  },
  {
   "cell_type": "markdown",
   "metadata": {},
   "source": [
    "## 分類: 與公車站的距離\n",
    "<p> 3分鐘內: x < 225m => 1 <p>\n",
    "<p> 3-6分鐘內: 225m < x < 450m => 2 <p>\n",
    "<p> 6-10分鐘內: 450m < x < 750m => 3 <p>\n",
    "<p> 超過10分鐘: x > 750m => 4 <p>"
   ]
  },
  {
   "cell_type": "code",
   "execution_count": null,
   "metadata": {},
   "outputs": [],
   "source": [
    "def bus_distance_classify(row):\n",
    "    if row[\"building_busstop_distance\"] < 0.225:\n",
    "        return 1\n",
    "    elif (row[\"building_busstop_distance\"] > 0.225) and (row[\"building_busstop_distance\"] < 0.45):\n",
    "        return 2\n",
    "    elif (row[\"building_busstop_distance\"] > 0.45) and (row[\"building_busstop_distance\"] < 0.75):\n",
    "        return 3\n",
    "    else:\n",
    "        return 4\n",
    "    \n",
    "outputDf1[\"class_bus\"] = outputDf1.apply(lambda x: bus_distance_classify(x), axis=1)\n",
    "\n",
    "# bus_addr表刪除不要的欄位\n",
    "outputDf1_1 = outputDf1.drop([\"鄉鎮市區\", \"y_h\", \"x_h\"], axis = 1)\n",
    "\n",
    "# 併回大表comDF_MRT\n",
    "comDF_MRT_bus = pd.merge(comDF_MRT, outputDf1_1, left_on = \"土地區段位置建物區段門牌\", right_on = \"土地區段位置建物區段門牌\", how = \"left\")"
   ]
  },
  {
   "cell_type": "code",
   "execution_count": null,
   "metadata": {},
   "outputs": [],
   "source": [
    "comDF_MRT_bus.to_csv(\"./combine/presale_location_spot_MRT_bus.csv\", index = False)"
   ]
  }
 ],
 "metadata": {
  "kernelspec": {
   "display_name": "Python 3",
   "language": "python",
   "name": "python3"
  },
  "language_info": {
   "codemirror_mode": {
    "name": "ipython",
    "version": 3
   },
   "file_extension": ".py",
   "mimetype": "text/x-python",
   "name": "python",
   "nbconvert_exporter": "python",
   "pygments_lexer": "ipython3",
   "version": "3.8.3"
  }
 },
 "nbformat": 4,
 "nbformat_minor": 4
}

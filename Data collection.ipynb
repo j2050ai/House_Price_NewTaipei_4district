{
 "cells": [
  {
   "cell_type": "markdown",
   "metadata": {},
   "source": [
    "# 實價登錄"
   ]
  },
  {
   "cell_type": "code",
   "execution_count": null,
   "metadata": {},
   "outputs": [],
   "source": [
    "from selenium import webdriver\n",
    "from selenium.webdriver.support.ui import Select\n",
    "from time import sleep\n",
    "import os\n",
    "import re\n",
    "import requests as rq\n",
    "\n",
    "\n",
    "options = webdriver.ChromeOptions()\n",
    "options.add_argument(\"--start-maximized\")\n",
    "options.add_argument(\"--incognito\")\n",
    "options.add_argument(\"--disable-popup-blocking\")\n",
    "\n",
    "driver = webdriver.Chrome( options = options )\n",
    "\n",
    "# Visit 實價登錄 open data\n",
    "def visit():\n",
    "    driver.get(\"https://plvr.land.moi.gov.tw/DownloadOpenData\");\n",
    "    sleep(2)\n",
    "\n",
    "# Selection for dataset\n",
    "def select():\n",
    "    \n",
    "    # 非本期下載\n",
    "    select_past = driver.find_element(By.CSS_SELECTOR, \"a#ui-id-2\")\n",
    "    select_past.click()\n",
    "    sleep(2)\n",
    "    \n",
    "    # 檔案格式 -- csv\n",
    "    select_csv = Select(driver.find_element(By.CSS_SELECTOR, \"select#fileFormatId\"))\n",
    "    select_csv.select_by_value(\"csv\")\n",
    "    sleep(2)\n",
    "    \n",
    "    # 下載方式 -- 進階\n",
    "    select_type = driver.find_element(By.CSS_SELECTOR, \"#downloadTypeId2\")\n",
    "    select_type.click()\n",
    "    sleep(2)\n",
    "    \n",
    "    # 新北市3個選項\n",
    "    select_city1 = driver.find_element(By.CSS_SELECTOR, \"#table5 > tbody > tr:nth-child(8) > td:nth-child(2) > input\")\n",
    "    select_city1.click()\n",
    "    sleep(1)\n",
    "    \n",
    "    select_city2 = driver.find_element(By.CSS_SELECTOR, \"#table5 > tbody > tr:nth-child(8) > td:nth-child(3) > input\")\n",
    "    select_city2.click()\n",
    "    sleep(1)\n",
    "    \n",
    "    select_city3 = driver.find_element(By.CSS_SELECTOR, \"#table5 > tbody > tr:nth-child(8) > td:nth-child(4) > input\")\n",
    "    select_city3.click()\n",
    "    sleep(1)\n",
    "    \n",
    "    # 發布日期\n",
    "    select_season = Select(driver.find_element_by_name(\"season\"))\n",
    "    opt = select_season.options\n",
    "    for index in range(0, len(opt)):\n",
    "        select_season.select_by_index(index)\n",
    "        sleep(1)\n",
    "        # click download\n",
    "        select_download = select_type = driver.find_element(By.CSS_SELECTOR, \"#downloadBtnId\")\n",
    "        select_download.click()\n",
    "        sleep(15)\n",
    "    \n",
    "\n",
    "def close():\n",
    "    driver.quit()  \n",
    "    \n",
    "if __name__ == '__main__':\n",
    "    visit()\n",
    "    select()\n",
    "    close()"
   ]
  },
  {
   "cell_type": "markdown",
   "metadata": {},
   "source": [
    "# Bus stop"
   ]
  },
  {
   "cell_type": "code",
   "execution_count": null,
   "metadata": {},
   "outputs": [],
   "source": [
    "import numpy as np\n",
    "import pandas as pd\n",
    "import json\n",
    "import csv"
   ]
  },
  {
   "cell_type": "code",
   "execution_count": null,
   "metadata": {},
   "outputs": [],
   "source": [
    "for i in range(0, 33):\n",
    "    busURL = \"https://data.ntpc.gov.tw/api/datasets/34B402A8-53D9-483D-9406-24A682C2D6DC/csv?page=\" + str(i) + \"&size=1500\"\n",
    "    \n",
    "    busreq = rq.get(busURL)\n",
    "    url_con = busreq.content\n",
    "    with open(\"./data/bus/\" + str(i) + \".csv\", \"wb\") as f:\n",
    "        f.write(url_con)"
   ]
  },
  {
   "cell_type": "markdown",
   "metadata": {},
   "source": [
    "# 周邊設施"
   ]
  },
  {
   "cell_type": "code",
   "execution_count": null,
   "metadata": {},
   "outputs": [],
   "source": [
    "# 讀取整理後(有包含房屋物件的經緯度)的大表\n",
    "df1 = pd.read_csv(\"./combine/presale_location.csv\")"
   ]
  },
  {
   "cell_type": "code",
   "execution_count": null,
   "metadata": {},
   "outputs": [],
   "source": [
    "# 抓出不重複的地號，存成list\n",
    "df2 = df1.drop_duplicates(subset = [\"土地區段位置建物區段門牌\"])\n",
    "add = list(df2[\"土地區段位置建物區段門牌\"])\n",
    "\n",
    "# 在整理出地號各自的經緯度，存成list\n",
    "x_h = list(df2[\"x_h\"])\n",
    "y_h = list(df2[\"y_h\"])"
   ]
  },
  {
   "cell_type": "markdown",
   "metadata": {},
   "source": [
    "## 嫌惡設施"
   ]
  },
  {
   "cell_type": "code",
   "execution_count": null,
   "metadata": {},
   "outputs": [],
   "source": [
    "# 嫌惡設施 API\n",
    "# 500m以內有嫌惡設施\n",
    "h_dic1 = {}\n",
    "for i in range(0, len(x_h)):\n",
    "    addr = add[i]\n",
    "    badURL = \"https://api.nlsc.gov.tw/other/MarkBufferAnlys/dis/\" + str(x_h[i]) + \"/\" + str(y_h[i]) + \"/500\"\n",
    "    bad_h = rq.get(badURL).json()\n",
    "    h_dic1[addr] = bad_h\n",
    "    \n",
    "# 100m以內有嫌惡設施\n",
    "h_dic2 = {}\n",
    "for i in range(0, len(x_h)):\n",
    "    addr = add[i]\n",
    "    badURL = \"https://api.nlsc.gov.tw/other/MarkBufferAnlys/dis/\" + str(x_h[i]) + \"/\" + str(y_h[i]) + \"/100\"\n",
    "    bad_h = rq.get(badURL).json()\n",
    "    h_dic2[addr] = bad_h"
   ]
  },
  {
   "cell_type": "code",
   "execution_count": null,
   "metadata": {},
   "outputs": [],
   "source": [
    "# check 哪幾個地方附近在100m有嫌惡設施\n",
    "badList1 = []\n",
    "\n",
    "for i in range(0, len(x_h)):\n",
    "    if len(list(h_dic2.values())[i]) != 0:\n",
    "        badList1.append(list(h_dic2.keys())[i])\n",
    "\n",
    "badList1"
   ]
  },
  {
   "cell_type": "code",
   "execution_count": null,
   "metadata": {},
   "outputs": [],
   "source": [
    "# 確認有無殯儀館、機場、墓...在500公尺內\n",
    "h_list1 = []\n",
    "for i in range(0, len(x_h)):\n",
    "    badURL = \"https://api.nlsc.gov.tw/other/MarkBufferAnlys/dis/\" + str(x_h[i]) + \"/\" + str(y_h[i]) + \"/500\"\n",
    "    bad_h = rq.get(badURL).json()\n",
    "    h_list3.append(bad_h)\n",
    "\n",
    "word = \"殯儀\" # 可替換成其他字詞\n",
    "for a in h_list1:\n",
    "    for b in a:\n",
    "        if word in b[\"name\"]:\n",
    "            print(\"YES\")\n",
    "        else:\n",
    "            print(\"NO\")"
   ]
  },
  {
   "cell_type": "code",
   "execution_count": null,
   "metadata": {},
   "outputs": [],
   "source": [
    "# 存出去(100m, 500m)\n",
    "with open(\"./data/spot/bad5m.json\", \"w\", encoding = \"utf-8\") as a:\n",
    "    a.write(json.dumps(h_dic1, ensure_ascii = False))\n",
    "    \n",
    "with open(\"./data/spot/bad1m.json\", \"w\", encoding = \"utf-8\") as b:\n",
    "    b.write(json.dumps(h_dic2, ensure_ascii = False))"
   ]
  },
  {
   "cell_type": "markdown",
   "metadata": {},
   "source": [
    "## 文教設施"
   ]
  },
  {
   "cell_type": "code",
   "execution_count": null,
   "metadata": {},
   "outputs": [],
   "source": [
    "# 文教設施 API\n",
    "# 100m\n",
    "h_dic1 = {}\n",
    "for i in range(0, len(x_h)):\n",
    "    addr = add[i]\n",
    "    eduURL = \"https://api.nlsc.gov.tw/other/MarkBufferAnlys/edu/\" + str(x_h[i]) + \"/\" + str(y_h[i]) + \"/100\"\n",
    "    edu_h = rq.get(eduURL).json()\n",
    "    h_dic1[addr] = edu_h\n",
    "    \n",
    "# 500m\n",
    "h_dic2 = {}\n",
    "for i in range(0, len(x_h)):\n",
    "    addr = add[i]\n",
    "    eduURL = \"https://api.nlsc.gov.tw/other/MarkBufferAnlys/edu/\" + str(x_h[i]) + \"/\" + str(y_h[i]) + \"/500\"\n",
    "    edu_h = rq.get(eduURL).json()\n",
    "    h_dic2[addr] = edu_h\n",
    "    \n",
    "# 1000m\n",
    "h_dic3 = {}\n",
    "for i in range(0, len(x_h)):\n",
    "    addr = add[i]\n",
    "    eduURL = \"https://api.nlsc.gov.tw/other/MarkBufferAnlys/edu/\" + str(x_h[i]) + \"/\" + str(y_h[i]) + \"/1000\"\n",
    "    edu_h = rq.get(eduURL).json()\n",
    "    h_dic3[addr] = edu_h"
   ]
  },
  {
   "cell_type": "code",
   "execution_count": null,
   "metadata": {},
   "outputs": [],
   "source": [
    "# 存出去(1000m, 500m)\n",
    "with open(\"./data/spot/edu10m.json\", \"w\", encoding = \"utf-8\") as a:\n",
    "    a.write(json.dumps(h_dic3, ensure_ascii = False))\n",
    "    \n",
    "with open(\"./data/spot/edu5m.json\", \"w\", encoding = \"utf-8\") as b:\n",
    "    b.write(json.dumps(h_dic2, ensure_ascii = False))"
   ]
  },
  {
   "cell_type": "markdown",
   "metadata": {},
   "source": [
    "## 醫療設施"
   ]
  },
  {
   "cell_type": "code",
   "execution_count": null,
   "metadata": {},
   "outputs": [],
   "source": [
    "# 醫療設施 API \n",
    "# 100m\n",
    "h_dic4 = {}\n",
    "for i in range(0, len(x_h)):\n",
    "    addr = add[i]\n",
    "    medURL = \"https://api.nlsc.gov.tw/other/MarkBufferAnlys/med/\" + str(x_h[i]) + \"/\" + str(y_h[i]) + \"/100\"\n",
    "    med_h = rq.get(medURL).json()\n",
    "    h_dic4[addr] = med_h\n",
    "\n",
    "# 500m\n",
    "h_dic5 = {}\n",
    "for i in range(0, len(x_h)):\n",
    "    addr = add[i]\n",
    "    medURL = \"https://api.nlsc.gov.tw/other/MarkBufferAnlys/med/\" + str(x_h[i]) + \"/\" + str(y_h[i]) + \"/500\"\n",
    "    med_h = rq.get(medURL).json()\n",
    "    h_dic5[addr] = med_h\n",
    "    \n",
    "# 1000m\n",
    "h_dic6 = {}\n",
    "for i in range(0, len(x_h)):\n",
    "    addr = add[i]\n",
    "    medURL = \"https://api.nlsc.gov.tw/other/MarkBufferAnlys/med/\" + str(x_h[i]) + \"/\" + str(y_h[i]) + \"/1000\"\n",
    "    med_h = rq.get(medURL).json()\n",
    "    h_dic6[addr] = med_h"
   ]
  },
  {
   "cell_type": "code",
   "execution_count": null,
   "metadata": {},
   "outputs": [],
   "source": [
    "# 存出去\n",
    "with open(\"./data/spot/med1m.json\", \"w\", encoding = \"utf-8\") as a:\n",
    "    a.write(json.dumps(h_dic4, ensure_ascii = False))\n",
    "    \n",
    "with open(\"./data/spot/med5m.json\", \"w\", encoding = \"utf-8\") as b:\n",
    "    b.write(json.dumps(h_dic5, ensure_ascii = False))\n",
    "\n",
    "with open(\"./data/spot/med10m.json\", \"w\", encoding = \"utf-8\") as c:\n",
    "    c.write(json.dumps(h_dic6, ensure_ascii = False))"
   ]
  }
 ],
 "metadata": {
  "kernelspec": {
   "display_name": "Python 3",
   "language": "python",
   "name": "python3"
  },
  "language_info": {
   "codemirror_mode": {
    "name": "ipython",
    "version": 3
   },
   "file_extension": ".py",
   "mimetype": "text/x-python",
   "name": "python",
   "nbconvert_exporter": "python",
   "pygments_lexer": "ipython3",
   "version": "3.8.3"
  }
 },
 "nbformat": 4,
 "nbformat_minor": 4
}

{
 "cells": [
  {
   "cell_type": "code",
   "execution_count": null,
   "metadata": {},
   "outputs": [],
   "source": [
    "import numpy as np\n",
    "import pandas as pd\n",
    "import re\n",
    "import requests as rq\n",
    "import json"
   ]
  },
  {
   "cell_type": "markdown",
   "metadata": {},
   "source": [
    "# 處理欄位，轉換成API需要的格式，並下載地號相對應的經緯度"
   ]
  },
  {
   "cell_type": "code",
   "execution_count": null,
   "metadata": {},
   "outputs": [],
   "source": [
    "df1 = pd.read_csv(\"./combine/presale_4dis.csv\")"
   ]
  },
  {
   "cell_type": "code",
   "execution_count": null,
   "metadata": {},
   "outputs": [],
   "source": [
    "# 取出\"土地區段位置建物區段門牌\"，並轉成List\n",
    "df2 = df1[\"土地區段位置建物區段門牌\"]\n",
    "addrList = list(df2)\n",
    "\n",
    "# 把 \"地號\" 拿掉\n",
    "regex01 = \"[\\u4E00-\\u9FFF]+$\"\n",
    "aList1 = []\n",
    "aList2 = []\n",
    "\n",
    "for addr in addrList:\n",
    "    aList1.append(re.split(regex01, addr))\n",
    "    for a1 in aList1:\n",
    "        aList2.append(a1[0])\n",
    "\n",
    "\n",
    "# 取出其中的段號文字\n",
    "regex02 = \"[0-9]+\\~[0-9]+\"\n",
    "wordList = []\n",
    "wList = []\n",
    "\n",
    "for a2 in aList2:\n",
    "    wordList.append(re.split(regex02, a2))\n",
    "    for word in wordList:\n",
    "        wList.append(word[0])\n",
    "    \n",
    "\n",
    "# 取出數字\n",
    "regex03 = \"[\\u4E00-\\u9FFF]+\"\n",
    "numList = []\n",
    "nList = []\n",
    "nList2 = []\n",
    "\n",
    "for a2 in aList2:\n",
    "    numList.append(re.split(regex03, a2))\n",
    "    for num in numList:\n",
    "        nList.append(num[1])\n",
    "        for n1 in nList:\n",
    "            nList2.append(n1.split(\"~\"))"
   ]
  },
  {
   "cell_type": "code",
   "execution_count": null,
   "metadata": {},
   "outputs": [],
   "source": [
    "# 取出\"鄉鎮市區\"，並轉成List\n",
    "df3 = df1[\"鄉鎮市區\"]\n",
    "disList = list(df3)"
   ]
  },
  {
   "cell_type": "code",
   "execution_count": null,
   "metadata": {},
   "outputs": [],
   "source": [
    "# 分割頭尾號碼\n",
    "hList = []\n",
    "for h in range(0, len(nList2)):\n",
    "    hList.append(\"新北市\" + disList[h] + wList[h] + str(nList2[h][0]) + \"號\")\n",
    "\n",
    "\n",
    "# 抓出不重複的值\n",
    "uniList_h = list(pd.unique(hList))\n",
    "\n",
    "\n",
    "# 加上API要用的 &lands[]=\n",
    "uniListall_h = []\n",
    "for i in range(1, len(uniList_h)):\n",
    "    uniListall_h.append(\"&lands[]=\" + uniList_h[i])\n",
    "\n",
    "\n",
    "# 因為 API無法一次抓所有經緯度資料，所以分成50筆一組\n",
    "hList50 = []\n",
    "hList100 = []\n",
    "hList120 = []\n",
    "\n",
    "for i in range(0, 50):\n",
    "    hList50.append(uniListall_h[i])\n",
    "\n",
    "for i in range(50, 100):\n",
    "    hList100.append(uniListall_h[i])\n",
    "    \n",
    "for i in range(100, len(uniListall_h)):\n",
    "    hList120.append(uniListall_h[i])\n",
    "\n",
    "\n",
    "hstr50 = \"\".join(hList50)\n",
    "hstr100 = \"\".join(hList100)\n",
    "hstr120 = \"\".join(hList120)"
   ]
  },
  {
   "cell_type": "code",
   "execution_count": null,
   "metadata": {},
   "outputs": [],
   "source": [
    "# 1-50筆\n",
    "url01 = \"https://twland.ronny.tw/index/search?lands[]=\" + uniList_h[0] + hstr50\n",
    "list01 = rq.get(url01).json()\n",
    "\n",
    "with open(\"./data/addr_head01.json\", \"w\") as hf:\n",
    "    hf.write(json.dumps(list01, ensure_ascii=False))"
   ]
  },
  {
   "cell_type": "code",
   "execution_count": null,
   "metadata": {},
   "outputs": [],
   "source": [
    "# 50-100\n",
    "url02 = \"https://twland.ronny.tw/index/search?lands[]=\" + uniList_h[0] + hstr100\n",
    "list02 = rq.get(url02).json()\n",
    "\n",
    "with open(\"./data/addr_head02.json\", \"w\") as hf:\n",
    "    hf.write(json.dumps(list02, ensure_ascii=False))"
   ]
  },
  {
   "cell_type": "code",
   "execution_count": null,
   "metadata": {},
   "outputs": [],
   "source": [
    "# 100-120\n",
    "url03 = \"https://twland.ronny.tw/index/search?lands[]=\" + uniList_h[0] + hstr120\n",
    "list03 = rq.get(url03).json()\n",
    "\n",
    "with open(\"./data/addr_head03.json\", \"w\") as hf:\n",
    "    hf.write(json.dumps(list03, ensure_ascii=False))"
   ]
  },
  {
   "cell_type": "markdown",
   "metadata": {},
   "source": [
    "# 整理從API抓到的經緯度資料"
   ]
  },
  {
   "cell_type": "code",
   "execution_count": null,
   "metadata": {},
   "outputs": [],
   "source": [
    "# 抓出json檔中，完整的地號名稱、經度、緯度\n",
    "AdList01 = []\n",
    "xList01 = []\n",
    "yList01 = []\n",
    "\n",
    "for i in range(0, len(list01[\"features\"])):\n",
    "    AdList01.append(list01[\"features\"][i][\"properties\"][\"query\"]) \n",
    "    xList01.append(list01[\"features\"][i][\"properties\"][\"xcenter\"])\n",
    "    yList01.append(list01[\"features\"][i][\"properties\"][\"ycenter\"])"
   ]
  },
  {
   "cell_type": "code",
   "execution_count": null,
   "metadata": {},
   "outputs": [],
   "source": [
    "AdList02 = []\n",
    "xList02 = []\n",
    "yList02 = []\n",
    "\n",
    "for i in range(0, len(list02[\"features\"])):\n",
    "    AdList02.append(list02[\"features\"][i][\"properties\"][\"query\"]) \n",
    "    xList02.append(list02[\"features\"][i][\"properties\"][\"xcenter\"])\n",
    "    yList02.append(list02[\"features\"][i][\"properties\"][\"ycenter\"])"
   ]
  },
  {
   "cell_type": "code",
   "execution_count": null,
   "metadata": {},
   "outputs": [],
   "source": [
    "AdList03 = []\n",
    "xList03 = []\n",
    "yList03 = []\n",
    "\n",
    "for i in range(0, len(list03[\"features\"])):\n",
    "    AdList03.append(list03[\"features\"][i][\"properties\"][\"query\"]) \n",
    "    xList03.append(list03[\"features\"][i][\"properties\"][\"xcenter\"])\n",
    "    yList03.append(list03[\"features\"][i][\"properties\"][\"ycenter\"])"
   ]
  },
  {
   "cell_type": "code",
   "execution_count": null,
   "metadata": {},
   "outputs": [],
   "source": [
    "# 把分散成3組的資料併起來\n",
    "AdList_h = AdList01 + AdList02 + AdList03\n",
    "xList_h = xList01 + xList02 + xList03\n",
    "yList_h = yList01 + yList02 + yList03\n",
    "\n",
    "# 轉成 Dataframe格式\n",
    "addrDic_h = {}\n",
    "addrDic_h[\"Addr_h\"] = AdList_h\n",
    "addrDic_h[\"x_h\"] = xList_h\n",
    "addrDic_h[\"y_h\"] = yList_h\n",
    "\n",
    "addrDF_h = pd.DataFrame.from_dict(addrDic_h)"
   ]
  },
  {
   "cell_type": "code",
   "execution_count": null,
   "metadata": {},
   "outputs": [],
   "source": [
    "# 存出\n",
    "addrDF_h.to_csv(\"./combine/addr_h.csv\", index = False)"
   ]
  },
  {
   "cell_type": "markdown",
   "metadata": {},
   "source": [
    "## 查不到的地號"
   ]
  },
  {
   "cell_type": "code",
   "execution_count": null,
   "metadata": {},
   "outputs": [],
   "source": [
    "misList01 = []\n",
    "misList02 = []\n",
    "misList03 = []\n",
    "\n",
    "for i in range(0, len(list01[\"notfound\"])):\n",
    "    misList01.append(list01[\"notfound\"][i][\"query\"])\n",
    "\n",
    "for i in range(0, len(head02[\"notfound\"])):\n",
    "    misList02.append(head02[\"notfound\"][i][\"query\"])\n",
    "\n",
    "for i in range(0, len(head03[\"notfound\"])):\n",
    "    misList03.append(head03[\"notfound\"][i][\"query\"])\n",
    "\n",
    "# 併起來，因為數量不多，另外用人工方式補齊\n",
    "misList_h = misList01 + misList02 + misList03"
   ]
  },
  {
   "cell_type": "markdown",
   "metadata": {},
   "source": [
    "# 把經緯度併回整理好的實價登錄大表"
   ]
  },
  {
   "cell_type": "code",
   "execution_count": null,
   "metadata": {},
   "outputs": [],
   "source": [
    "# 刪除重複值\n",
    "addrDF_h = addrDF_h.drop_duplicates(keep = \"first\", inplace = False)\n",
    "\n",
    "# 把\"新北市XX區\"拿掉\n",
    "regex04 = \"^[\\u4E00-\\u9FFF]{6}\"\n",
    "addrDF_h[\"Addr_h\"] = addrDF_h[\"Addr_h\"].str.split(regex04).str.get(1)\n",
    "\n",
    "# 去掉 \"~XX地\" 字樣\n",
    "regex05 = \"\\~[0-9]+[\\u4E00-\\u9FFF]\"\n",
    "a = df1[\"土地區段位置建物區段門牌\"].str.split(regex05).str.get(0)\n",
    "b = df1[\"土地區段位置建物區段門牌\"].str.split(regex05).str.get(1)\n",
    "df1[\"地號_h\"] = a + b\n",
    "\n",
    "# 兩張表合併\n",
    "headDF_1 = pd.merge(df1, addrDF_h, left_on = \"地號_h\", right_on = \"Addr_h\", how = \"inner\")\n",
    "\n",
    "# 存出報表\n",
    "headDF_1.to_csv(\"./combine/presale_location.csv\", index = False)"
   ]
  }
 ],
 "metadata": {
  "kernelspec": {
   "display_name": "Python 3",
   "language": "python",
   "name": "python3"
  },
  "language_info": {
   "codemirror_mode": {
    "name": "ipython",
    "version": 3
   },
   "file_extension": ".py",
   "mimetype": "text/x-python",
   "name": "python",
   "nbconvert_exporter": "python",
   "pygments_lexer": "ipython3",
   "version": "3.8.3"
  }
 },
 "nbformat": 4,
 "nbformat_minor": 4
}

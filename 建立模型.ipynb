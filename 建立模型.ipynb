{
 "cells": [
  {
   "cell_type": "code",
   "execution_count": null,
   "metadata": {},
   "outputs": [],
   "source": [
    "import numpy as np\n",
    "import pandas as pd"
   ]
  },
  {
   "cell_type": "code",
   "execution_count": null,
   "metadata": {},
   "outputs": [],
   "source": [
    "# Import data\n",
    "dataDF = pd.read_csv(\"./combine/模型用/combine.csv\")"
   ]
  },
  {
   "cell_type": "code",
   "execution_count": null,
   "metadata": {},
   "outputs": [],
   "source": [
    "# 分區建立模型時需要的資料\n",
    "df1 = dataDF[dataDF[\"鄉鎮市區\"] == \"新莊區\"]\n",
    "df2 = dataDF[dataDF[\"鄉鎮市區\"] == \"板橋區\"]\n",
    "df3 = dataDF[dataDF[\"鄉鎮市區\"] == \"新店區\"]\n",
    "df4 = dataDF[dataDF[\"鄉鎮市區\"] == \"中和區\"]"
   ]
  },
  {
   "cell_type": "markdown",
   "metadata": {},
   "source": [
    "# Linear Regression"
   ]
  },
  {
   "cell_type": "code",
   "execution_count": null,
   "metadata": {},
   "outputs": [],
   "source": [
    "from sklearn.linear_model import LinearRegression\n",
    "from sklearn.metrics import mean_squared_error, r2_score\n",
    "from sklearn.model_selection import train_test_split\n",
    "from sklearn import preprocessing\n",
    "\n",
    "\n",
    "# Select Variables\n",
    "X = dataDF.iloc[:, 4:18].values\n",
    "y = dataDF[\"Price\"].values\n",
    "\n",
    "# Split dataset into training/testing data\n",
    "X_train, X_test, y_train, y_test = train_test_split(X, y, test_size = 0.2, random_state = 1)\n",
    "\n",
    "\n",
    "# Standardization\n",
    "scaler = preprocessing.StandardScaler().fit(X_train)\n",
    "X_train = scaler.transform(X_train)\n",
    "X_test = scaler.transform(X_test)\n",
    "\n",
    "\n",
    "# Build Linear regression model\n",
    "linear_model = LinearRegression()\n",
    "linear_model.fit(X_train, y_train)\n",
    "\n",
    "# Make predictions using the testing set\n",
    "y_train_pred = linear_model.predict(X_train)\n",
    "y_test_pred = linear_model.predict(X_test)\n",
    "\n",
    "\n",
    "# Coefficients係數\n",
    "print('Coefficients: {}\\n'.format(linear_model.coef_))\n",
    "\n",
    "# 模型效能\n",
    "# Mean squared error(MSE)\n",
    "print(\"MSE_train: {}\".format((mean_squared_error(y_train, y_train_pred))))\n",
    "print(\"MSE_test: {}\".format((mean_squared_error(y_test, y_test_pred))))\n",
    "# R square\n",
    "print('R2_train: {}'.format(r2_score(y_train, y_train_pred)))\n",
    "print('R2_test: {}'.format(r2_score(y_test, y_test_pred)))"
   ]
  },
  {
   "cell_type": "markdown",
   "metadata": {},
   "source": [
    "# Polynomial Regression"
   ]
  },
  {
   "cell_type": "code",
   "execution_count": null,
   "metadata": {},
   "outputs": [],
   "source": [
    "from sklearn.linear_model import Ridge\n",
    "from sklearn.preprocessing import PolynomialFeatures\n",
    "\n",
    "\n",
    "# Select Variables\n",
    "X = dataDF.iloc[:, 4:18].values\n",
    "y = dataDF[\"Price\"].values\n",
    "\n",
    "poly = PolynomialFeatures(degree=2).fit(X)\n",
    "X_poly = poly.transform(X)\n",
    "\n",
    "# Split dataset into training/testing data\n",
    "X_train, X_test, y_train, y_test = train_test_split(X_poly, y, test_size = 0.2, random_state = 1)\n",
    "\n",
    "\n",
    "# Standardization\n",
    "scaler = preprocessing.StandardScaler().fit(X_train)\n",
    "X_train = scaler.transform(X_train)\n",
    "X_test = scaler.transform(X_test)\n",
    "\n",
    "\n",
    "# Build Polynomial regression model\n",
    "poly_model = LinearRegression()\n",
    "poly_model.fit(X_train, y_train)\n",
    "\n",
    "# Make predictions using the testing set\n",
    "y_train_pred = poly_model.predict(X_train)\n",
    "y_test_pred = poly_model.predict(X_test)\n",
    "\n",
    "\n",
    "# Coefficients係數\n",
    "print('Coefficients: {}\\n'.format(poly_model.coef_))\n",
    "\n",
    "# 模型效能\n",
    "# Mean squared error(MSE)\n",
    "print(\"MSE_train: {}\".format((mean_squared_error(y_train, y_train_pred))))\n",
    "print(\"MSE_test: {}\".format((mean_squared_error(y_test, y_test_pred))))\n",
    "# R square\n",
    "print('R2_train: {}'.format(r2_score(y_train, y_train_pred)))\n",
    "print('R2_test: {}'.format(r2_score(y_test, y_test_pred)))"
   ]
  },
  {
   "cell_type": "markdown",
   "metadata": {},
   "source": [
    "# RandomForest Regression"
   ]
  },
  {
   "cell_type": "code",
   "execution_count": null,
   "metadata": {},
   "outputs": [],
   "source": [
    "from sklearn.ensemble import RandomForestRegressor\n",
    "from sklearn.metrics import mean_squared_error, r2_score\n",
    "from sklearn.model_selection import train_test_split\n",
    "from sklearn import preprocessing\n",
    "\n",
    "\n",
    "# Select Variables\n",
    "X = dataDF.iloc[:, 4:18].values\n",
    "y = dataDF[\"Price\"].values\n",
    "\n",
    "# Split dataset into training/testing data\n",
    "X_train, X_test, y_train, y_test = train_test_split(X, y, test_size = 0.2, random_state = 1)\n",
    "\n",
    "# Standardization\n",
    "scaler = preprocessing.StandardScaler().fit(X_train)\n",
    "X_train = scaler.transform(X_train)\n",
    "X_test = scaler.transform(X_test)\n",
    "\n",
    "\n",
    "# Build RandomForest Regression model\n",
    "forest_model = RandomForestRegressor(n_estimators = 500, random_state = 1, n_jobs = -1, max_leaf_nodes = 145)\n",
    "forest_model.fit(X_train, y_train)\n",
    "\n",
    "# Make predictions using the testing set\n",
    "y_train_pred = forest_model.predict(X_train)\n",
    "y_test_pred = forest_model.predict(X_test)\n",
    "\n",
    "\n",
    "# 模型效能\n",
    "# Mean squared error(MSE)\n",
    "print(\"MSE_train: {}\".format((mean_squared_error(y_train, y_train_pred))))\n",
    "print(\"MSE_test: {}\".format((mean_squared_error(y_test, y_test_pred))))\n",
    "# R square\n",
    "print('R2_train: {}'.format(r2_score(y_train, y_train_pred)))\n",
    "print('R2_test: {}'.format(r2_score(y_test, y_test_pred)))"
   ]
  },
  {
   "cell_type": "markdown",
   "metadata": {},
   "source": [
    "## RandomForest Regression - 各區自行建立一個模型"
   ]
  },
  {
   "cell_type": "markdown",
   "metadata": {},
   "source": [
    "### 新莊區"
   ]
  },
  {
   "cell_type": "code",
   "execution_count": null,
   "metadata": {},
   "outputs": [],
   "source": [
    "# 新莊區\n",
    "\n",
    "# Select Variables\n",
    "X = df1.iloc[:, 4:18].values\n",
    "y = df1[\"Price\"].values\n",
    "\n",
    "# Split dataset into training/testing data\n",
    "X_train, X_test, y_train, y_test = train_test_split(X, y, test_size = 0.2, random_state = 1)\n",
    "\n",
    "# Standardization\n",
    "scaler = preprocessing.StandardScaler().fit(X_train)\n",
    "X_train = scaler.transform(X_train)\n",
    "X_test = scaler.transform(X_test)\n",
    "\n",
    "\n",
    "# Build RandomForest Regression model\n",
    "forest_model = RandomForestRegressor(n_estimators = 300, random_state = 1, n_jobs = -1, max_leaf_nodes = 80)\n",
    "forest_model.fit(X_train, y_train)\n",
    "\n",
    "# Make predictions using the testing set\n",
    "y_train_pred = forest_model.predict(X_train)\n",
    "y_test_pred = forest_model.predict(X_test)\n",
    "\n",
    "\n",
    "# 模型效能\n",
    "# Mean squared error(MSE)\n",
    "print(\"MSE_train: {}\".format((mean_squared_error(y_train, y_train_pred))))\n",
    "print(\"MSE_test: {}\".format((mean_squared_error(y_test, y_test_pred))))\n",
    "# R square\n",
    "print('R2_train: {}'.format(r2_score(y_train, y_train_pred)))\n",
    "print('R2_test: {}'.format(r2_score(y_test, y_test_pred)))"
   ]
  },
  {
   "cell_type": "markdown",
   "metadata": {},
   "source": [
    "### 板橋區"
   ]
  },
  {
   "cell_type": "code",
   "execution_count": null,
   "metadata": {},
   "outputs": [],
   "source": [
    "# 板橋區\n",
    "\n",
    "# Select Variables\n",
    "X = df2.iloc[:, 4:18].values\n",
    "y = df2[\"Price\"].values\n",
    "\n",
    "# Split dataset into training/testing data\n",
    "X_train, X_test, y_train, y_test = train_test_split(X, y, test_size = 0.2, random_state = 1)\n",
    "\n",
    "\n",
    "# Standardization\n",
    "scaler = preprocessing.StandardScaler().fit(X_train)\n",
    "X_train = scaler.transform(X_train)\n",
    "X_test = scaler.transform(X_test)\n",
    "\n",
    "\n",
    "# Build RandomForest Regression model\n",
    "forest_model = RandomForestRegressor(n_estimators = 300, random_state = 1, n_jobs = -1, max_leaf_nodes = 30)\n",
    "forest_model.fit(X_train, y_train)\n",
    "\n",
    "# Make predictions using the testing set\n",
    "y_train_pred = forest_model.predict(X_train)\n",
    "y_test_pred = forest_model.predict(X_test)\n",
    "\n",
    "\n",
    "# 模型效能\n",
    "# Mean squared error(MSE)\n",
    "print(\"MSE_train: {}\".format((mean_squared_error(y_train, y_train_pred))))\n",
    "print(\"MSE_test: {}\".format((mean_squared_error(y_test, y_test_pred))))\n",
    "# R square\n",
    "print('R2_train: {}'.format(r2_score(y_train, y_train_pred)))\n",
    "print('R2_test: {}'.format(r2_score(y_test, y_test_pred)))"
   ]
  },
  {
   "cell_type": "markdown",
   "metadata": {},
   "source": [
    "### 新店區"
   ]
  },
  {
   "cell_type": "code",
   "execution_count": null,
   "metadata": {},
   "outputs": [],
   "source": [
    "# 新店區\n",
    "\n",
    "# Select Variables\n",
    "X = df3.iloc[:, 4:18].values\n",
    "y = df3[\"Price\"].values\n",
    "\n",
    "# Split dataset into training/testing data\n",
    "X_train, X_test, y_train, y_test = train_test_split(X, y, test_size = 0.2, random_state = 1)\n",
    "\n",
    "\n",
    "# Standardization\n",
    "scaler = preprocessing.StandardScaler().fit(X_train)\n",
    "X_train = scaler.transform(X_train)\n",
    "X_test = scaler.transform(X_test)\n",
    "\n",
    "\n",
    "# Build RandomForest Regression model\n",
    "forest_model = RandomForestRegressor(n_estimators = 300, random_state = 1, n_jobs = -1, max_leaf_nodes = 80)\n",
    "forest_model.fit(X_train, y_train)\n",
    "\n",
    "# Make predictions using the testing set\n",
    "y_train_pred = forest_model.predict(X_train)\n",
    "y_test_pred = forest_model.predict(X_test)\n",
    "\n",
    "\n",
    "# 模型效能\n",
    "# Mean squared error(MSE)\n",
    "print(\"MSE_train: {}\".format((mean_squared_error(y_train, y_train_pred))))\n",
    "print(\"MSE_test: {}\".format((mean_squared_error(y_test, y_test_pred))))\n",
    "# R square\n",
    "print('R2_train: {}'.format(r2_score(y_train, y_train_pred)))\n",
    "print('R2_test: {}'.format(r2_score(y_test, y_test_pred)))"
   ]
  },
  {
   "cell_type": "markdown",
   "metadata": {},
   "source": [
    "### 中和區"
   ]
  },
  {
   "cell_type": "code",
   "execution_count": null,
   "metadata": {},
   "outputs": [],
   "source": [
    "# 中和區\n",
    "\n",
    "# Select Variables\n",
    "X = df4.iloc[:, 4:18].values\n",
    "y = df4[\"Price\"].values\n",
    "\n",
    "# Split dataset into training/testing data\n",
    "X_train, X_test, y_train, y_test = train_test_split(X, y, test_size = 0.2, random_state = 1)\n",
    "\n",
    "\n",
    "# Standardization\n",
    "scaler = preprocessing.StandardScaler().fit(X_train)\n",
    "X_train = scaler.transform(X_train)\n",
    "X_test = scaler.transform(X_test)\n",
    "\n",
    "\n",
    "# Build RandomForest Regression model\n",
    "forest_model = RandomForestRegressor(n_estimators = 300, random_state = 1, n_jobs = -1, max_leaf_nodes = 50)\n",
    "forest_model.fit(X_train, y_train)\n",
    "\n",
    "# Make predictions using the testing set\n",
    "y_train_pred = forest_model.predict(X_train)\n",
    "y_test_pred = forest_model.predict(X_test)\n",
    "\n",
    "\n",
    "# 模型效能\n",
    "# Mean squared error(MSE)\n",
    "print(\"MSE_train: {}\".format((mean_squared_error(y_train, y_train_pred))))\n",
    "print(\"MSE_test: {}\".format((mean_squared_error(y_test, y_test_pred))))\n",
    "# R square\n",
    "print('R2_train: {}'.format(r2_score(y_train, y_train_pred)))\n",
    "print('R2_test: {}'.format(r2_score(y_test, y_test_pred)))"
   ]
  }
 ],
 "metadata": {
  "kernelspec": {
   "display_name": "Python 3",
   "language": "python",
   "name": "python3"
  },
  "language_info": {
   "codemirror_mode": {
    "name": "ipython",
    "version": 3
   },
   "file_extension": ".py",
   "mimetype": "text/x-python",
   "name": "python",
   "nbconvert_exporter": "python",
   "pygments_lexer": "ipython3",
   "version": "3.8.3"
  }
 },
 "nbformat": 4,
 "nbformat_minor": 4
}

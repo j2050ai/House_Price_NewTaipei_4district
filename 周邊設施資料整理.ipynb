{
 "cells": [
  {
   "cell_type": "code",
   "execution_count": null,
   "metadata": {},
   "outputs": [],
   "source": [
    "import numpy as np\n",
    "import pandas as pd\n",
    "import json\n",
    "import csv"
   ]
  },
  {
   "cell_type": "code",
   "execution_count": null,
   "metadata": {},
   "outputs": [],
   "source": [
    "# 讀取大表\n",
    "df1 = pd.read_csv(\"./combine/presale_location.csv\")"
   ]
  },
  {
   "cell_type": "code",
   "execution_count": null,
   "metadata": {},
   "outputs": [],
   "source": [
    "# 取出經緯度\n",
    "df2 = df1.drop_duplicates(subset = [\"土地區段位置建物區段門牌\"])\n",
    "\n",
    "x_h = list(df2[\"x_h\"])\n",
    "y_h = list(df2[\"y_h\"])"
   ]
  },
  {
   "cell_type": "markdown",
   "metadata": {},
   "source": [
    "## 嫌惡設施"
   ]
  },
  {
   "cell_type": "code",
   "execution_count": null,
   "metadata": {},
   "outputs": [],
   "source": [
    "# 嫌惡設施\n",
    "with open(\"./data/spot/bad1m.json\", \"r\", encoding = \"utf-8\") as a:\n",
    "    bad1 = json.load(a)\n",
    "\n",
    "# check 哪幾個地方附近在100m有嫌惡設施\n",
    "badList1 = []\n",
    "for i in range(0, len(x_h)):\n",
    "    if len(list(bad1.values())[i]) != 0:\n",
    "        badList1.append(list(bad1.keys())[i])"
   ]
  },
  {
   "cell_type": "code",
   "execution_count": null,
   "metadata": {},
   "outputs": [],
   "source": [
    "# 若為這五個地址(代表在100m有嫌惡設施)，新欄位\"bad100m\" 為1\n",
    "n1 = df1[\"土地區段位置建物區段門牌\"] == \"民安段601~630地號\"\n",
    "n2 = df1[\"土地區段位置建物區段門牌\"] == \"寶強段541~570地號\"\n",
    "n3 = df1[\"土地區段位置建物區段門牌\"] == \"景平段181~210地號\"\n",
    "n4 = df1[\"土地區段位置建物區段門牌\"] == \"公園段631~660地號\"\n",
    "n5 = df1[\"土地區段位置建物區段門牌\"] == \"江子翠段第二崁小段211~240地號\"\n",
    "\n",
    "df1.loc[(n1 | n2 | n3 | n4 | n5), \"bad100m\"] = 1\n",
    "\n",
    "#  Fillna => 剩下的為 0\n",
    "df1_1 = df1.fillna(value = 0)"
   ]
  },
  {
   "cell_type": "markdown",
   "metadata": {},
   "source": [
    "## 文教設施"
   ]
  },
  {
   "cell_type": "code",
   "execution_count": null,
   "metadata": {},
   "outputs": [],
   "source": [
    "# 文教設施\n",
    "with open(\"./data/spot/edu5m.json\", \"r\", encoding = \"utf-8\") as b:\n",
    "    edu1 = json.load(b)\n",
    "    \n",
    "# check 哪幾個地方附近在 500m有文教設施，發現 500m以外筆數比較少，使用反向查詢\n",
    "eduList1 = []\n",
    "for i in range(0, len(x_h)):\n",
    "    if len(list(edu1.values())[i]) == 0:\n",
    "        eduList1.append(list(edu1.keys())[i])"
   ]
  },
  {
   "cell_type": "code",
   "execution_count": null,
   "metadata": {},
   "outputs": [],
   "source": [
    "# 500m以內 = 1 , 500m以外 = 0\n",
    "e1 = df1[\"土地區段位置建物區段門牌\"] == \"安康段1291~1320地號\"\n",
    "e2 = df1[\"土地區段位置建物區段門牌\"] == \"香坡段481~510地號\"\n",
    "e3 = df1[\"土地區段位置建物區段門牌\"] == \"香坡段601~630地號\"\n",
    "e4 = df1[\"土地區段位置建物區段門牌\"] == \"香坡段451~480地號\"\n",
    "e5 = df1[\"土地區段位置建物區段門牌\"] == \"安康段1621~1650地號\"\n",
    "\n",
    "# e1-e5都是500m以外的，所以等於 0\n",
    "df1_1.loc[(e1 | e2 | e3 | e4 | e5), \"edu500m\"] = 0\n",
    "\n",
    "#  Fillna => 剩下的為 1\n",
    "df1_2 = df1_1.fillna(value = 1)"
   ]
  },
  {
   "cell_type": "markdown",
   "metadata": {},
   "source": [
    "## 醫療設施"
   ]
  },
  {
   "cell_type": "code",
   "execution_count": null,
   "metadata": {},
   "outputs": [],
   "source": [
    "# 醫療設施\n",
    "with open(\"./data/spot/med10m.json\", \"r\", encoding = \"utf-8\") as c:\n",
    "    med1 = json.load(c)\n",
    "\n",
    "# check 哪幾個地方附近在 1000m有醫療設施，發現 1000m以外筆數比較少，使用反向查詢\n",
    "medList1 = []\n",
    "for i in range(0, len(x_h)):\n",
    "    if len(list(med1.values())[i]) == 0:\n",
    "        medList1.append(list(med1.keys())[i])"
   ]
  },
  {
   "cell_type": "code",
   "execution_count": null,
   "metadata": {},
   "outputs": [],
   "source": [
    "# 用迴圈產生變數\n",
    "for i,d in enumerate(medList1):\n",
    "     globals()[\"m\" + str(i)] = (df1_2[\"土地區段位置建物區段門牌\"] == d)\n",
    "        \n",
    "mm = (m0 | m1 | m2 | m3 | m4 | m5 | m6 | m7 | m8 | m9 | m10 | m11 | m12 | m13 | m14 | m15 | m16 | m17 | m18 | m19 | m20 | m21 | m22 | m23 | m24 | m25 | m26 | m27 | m28 | m29 | m30 | m31 | m32 | m33 | m34 | m35 | m36 | m37 | m38 | m39 | m40 | m41 | m42 | m43 | m44 | m45 | m46)\n",
    "\n",
    "# m0-m46 都是1000m以外的，所以等於 0\n",
    "df1_2.loc[mm, \"med1000m\"] = 0\n",
    "\n",
    "#  Fillna => 剩下的為 1\n",
    "df1_3 = df1_2.fillna(value = 1)"
   ]
  },
  {
   "cell_type": "code",
   "execution_count": null,
   "metadata": {},
   "outputs": [],
   "source": [
    "# 存出\n",
    "df1_3.to_csv(\"./combine/presale_location_spot.csv\", index = False)"
   ]
  }
 ],
 "metadata": {
  "kernelspec": {
   "display_name": "Python 3",
   "language": "python",
   "name": "python3"
  },
  "language_info": {
   "codemirror_mode": {
    "name": "ipython",
    "version": 3
   },
   "file_extension": ".py",
   "mimetype": "text/x-python",
   "name": "python",
   "nbconvert_exporter": "python",
   "pygments_lexer": "ipython3",
   "version": "3.8.3"
  }
 },
 "nbformat": 4,
 "nbformat_minor": 4
}
